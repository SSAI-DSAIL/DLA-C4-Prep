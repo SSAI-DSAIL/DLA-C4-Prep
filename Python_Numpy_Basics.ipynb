{
 "cells": [
  {
   "cell_type": "markdown",
   "id": "a8a90360",
   "metadata": {},
   "source": [
    "## Python Basics: Using Libraries - NumPy and Matplotlib"
   ]
  },
  {
   "cell_type": "markdown",
   "id": "0325ce98",
   "metadata": {},
   "source": [
    "Python provides data types and libraries for performing operations for linear algebra, matrices, and calculus. \n",
    "\n",
    "[Numpy](https://numpy.org/) is an essential Python package for carrying out the calculations needed for linear algebra as well as other areas of scientific computing.  [Matplotlib](https://matplotlib.org/) is a extensive Python package for producing a wide variety of plots.  \n",
    "\n",
    "It should be noted that NumPy is used for many of the actual calculations encounted in linear algebra, while we use Matplotlib only to make useful visual representations of the concepts.   \n",
    "\n",
    "Versions used for this Notebook: Python and Libraries\n",
    "- Python version       : 3.12.4\n",
    "- IPython version      : 8.26.0\n",
    "\n",
    "- numpy     : 2.0.0\n",
    "- matplotlib: 3.9.1\n"
   ]
  },
  {
   "cell_type": "markdown",
   "id": "95e6d32b",
   "metadata": {},
   "source": [
    "### Concepts: List, Arrays, Vectors, and Metrices"
   ]
  },
  {
   "cell_type": "markdown",
   "id": "76ca4566",
   "metadata": {},
   "source": [
    "#### List\n",
    "List is a built-in data type in Python to creae a variable-length and mutable sequence of objects."
   ]
  },
  {
   "cell_type": "markdown",
   "id": "7593614b",
   "metadata": {},
   "source": [
    "For example: \n",
    "` a = [1 , 2, 3]`"
   ]
  },
  {
   "cell_type": "code",
   "execution_count": 58,
   "id": "70a5a9e5",
   "metadata": {},
   "outputs": [
    {
     "name": "stdout",
     "output_type": "stream",
     "text": [
      "[1, 2, 3]\n"
     ]
    }
   ],
   "source": [
    "a = [1, 2, 3]\n",
    "print(a)"
   ]
  },
  {
   "cell_type": "markdown",
   "id": "66d86512",
   "metadata": {},
   "source": [
    "#### Numpy Arrays: N-dimensional\n",
    "\n",
    "NumPy is built around ndarrays objects, which are high-performance multi-dimensional array data structures. Intuitively, we can think of a one-dimensional NumPy array as a data structure to represent a vector of elements -- you may think of it as a fixed-size Python list where all elements share the same type. Similarly, we can think of a two-dimensional array as a data structure to represent a matrix or a Python list of lists. \n",
    "\n",
    "Although it is possible to represent arrays using a basic Python objects called lists, we will make use of NumPy array objects for our work.  NumPy has a powerful way to represent arrays, and has many built-in tools for processing them efficiently.  We have to first import NumPy before we can use it.  \n",
    "\n",
    "We will use the code `import numpy as np`, which imports the module but gives it a different name, called an alias, that is more convenient to type. \n"
   ]
  },
  {
   "cell_type": "code",
   "execution_count": 13,
   "id": "4573cfd7",
   "metadata": {},
   "outputs": [],
   "source": [
    "# Import numpy library (with alias np)\n",
    "import numpy as np"
   ]
  },
  {
   "cell_type": "markdown",
   "id": "75d04b0a",
   "metadata": {},
   "source": [
    "__Vector__ is a 1-dimensional array. \n",
    "For example:\n",
    "`a = np.array([1,2,3])`"
   ]
  },
  {
   "cell_type": "code",
   "execution_count": 14,
   "id": "b1a2e3e7",
   "metadata": {},
   "outputs": [
    {
     "name": "stdout",
     "output_type": "stream",
     "text": [
      "[1 2 3]\n",
      "<class 'numpy.ndarray'>\n"
     ]
    }
   ],
   "source": [
    "a = np.array([1,2,3])\n",
    "print(a)\n",
    "print(type(a))"
   ]
  },
  {
   "cell_type": "markdown",
   "id": "a83f8257",
   "metadata": {},
   "source": [
    "##### N-dimensional arrays\n",
    "\n",
    "While NumPy arrays can have up to 32 dimensions if it was compiled without alterations to the source code, we will focus on lower-dimensional arrays for the purpose of illustration in this introduction.\n",
    "\n",
    "<!-- <img src=\"assets/array_1.png\" width=\"250\"> -->\n",
    "_Example_\n",
    "\n",
    "An example of a 2-dimensional array with a (2,3) shape or 2 rows and 3 columns\"\n",
    "$$\n",
    "\\begin{array} {|r|r|r|}\\hline 1 & 5 & 8 \\\\ \\hline 3 & 7 & 2 \\\\ \\hline  \\end{array}\n",
    "$$"
   ]
  },
  {
   "cell_type": "code",
   "execution_count": 59,
   "id": "762ce373",
   "metadata": {},
   "outputs": [],
   "source": [
    "# A 2-dimensional array with a (2,3) shape or 2 rows and 3 columns\n",
    "b = np.array([[1,5,8],\n",
    "              [3,7,2]])"
   ]
  },
  {
   "cell_type": "code",
   "execution_count": 60,
   "id": "c6bb3ac6",
   "metadata": {},
   "outputs": [
    {
     "name": "stdout",
     "output_type": "stream",
     "text": [
      "[[1 5 8]\n",
      " [3 7 2]]\n"
     ]
    }
   ],
   "source": [
    "# Print the array\n",
    "print(b)"
   ]
  },
  {
   "cell_type": "code",
   "execution_count": 61,
   "id": "b7d1141a",
   "metadata": {},
   "outputs": [
    {
     "name": "stdout",
     "output_type": "stream",
     "text": [
      "2\n"
     ]
    }
   ],
   "source": [
    "# Print dimensions of array\n",
    "print(b.ndim)"
   ]
  },
  {
   "cell_type": "code",
   "execution_count": 18,
   "id": "e1f1c5a1",
   "metadata": {},
   "outputs": [
    {
     "name": "stdout",
     "output_type": "stream",
     "text": [
      "(2, 3)\n"
     ]
    }
   ],
   "source": [
    "# Print shape of array\n",
    "print(b.shape)"
   ]
  },
  {
   "cell_type": "code",
   "execution_count": 62,
   "id": "2285025b",
   "metadata": {},
   "outputs": [
    {
     "name": "stdout",
     "output_type": "stream",
     "text": [
      "6\n"
     ]
    }
   ],
   "source": [
    "# Print size of array (total number of elements in the array)\n",
    "print(b.size)"
   ]
  },
  {
   "cell_type": "markdown",
   "id": "6c3c57e2",
   "metadata": {},
   "source": [
    "##### Array math and NumPy broadcasting\n",
    "\n",
    "There are times when you might want to carry out an operation between an array and a single number (also called an operation between a vector and a scalar) or between arrays of two different sizes. Broadcasting allows us to perform vectorized operations between two arrays even if their dimensions do not match by creating implicit multidimensional grids. You already learned about ufuncs in the previous section where we performed element-wise addition between a scalar and a multidimensional array, which is just one example of broadcasting.\n",
    "\n",
    "For example, adding `1` to each element of an array :\n",
    "\n",
    "<img src=\"assets/broadcasting-1.png\" width=\"400\">\n",
    "\n",
    "\n",
    "The `ufuncs` (universal functions) are numpy function for basic arithmetic operations like `add`, `subtract`, `divide`, `multiply`, `power`, and `exp` (exponential). However, NumPy uses operator overloading so that we can use mathematical operators (`+`, `-`, `/`, `*`, and `**`) directly. For more `ufuncs`, see [documentation](https://numpy.org/doc/stable/reference/ufuncs.html#available-ufuncs). "
   ]
  },
  {
   "cell_type": "code",
   "execution_count": 20,
   "id": "547dd8ba",
   "metadata": {},
   "outputs": [
    {
     "name": "stdout",
     "output_type": "stream",
     "text": [
      "[[2 6 9]\n",
      " [4 8 3]]\n"
     ]
    }
   ],
   "source": [
    "# Method 1: Adding 1 to all elements of an array\n",
    "c = np.add(b, 1)\n",
    "print(c)"
   ]
  },
  {
   "cell_type": "code",
   "execution_count": 21,
   "id": "2b50a12d",
   "metadata": {},
   "outputs": [
    {
     "name": "stdout",
     "output_type": "stream",
     "text": [
      "[[2 6 9]\n",
      " [4 8 3]]\n"
     ]
    }
   ],
   "source": [
    "# Method 2: Adding 1 to all elements of an array\n",
    "c = b + 1\n",
    "print(c)"
   ]
  },
  {
   "cell_type": "markdown",
   "id": "9e9ce8a9",
   "metadata": {},
   "source": [
    "Let's add a one-dimensional to a two-dimensional array, where NumPy creates an implicit multidimensional grid from the one-dimensional array:\n",
    "\n",
    "<img src=\"assets/broadcasting-2.png\" width=\"400\">"
   ]
  },
  {
   "cell_type": "code",
   "execution_count": 63,
   "id": "a1fe24e8",
   "metadata": {},
   "outputs": [
    {
     "name": "stdout",
     "output_type": "stream",
     "text": [
      "[[ 5  7  9]\n",
      " [ 8 10 12]]\n"
     ]
    }
   ],
   "source": [
    "ary1 = np.array([[4,5,6],\n",
    "                 [7,8,9]])\n",
    "\n",
    "ary2 = np.array([1,2,3])\n",
    "\n",
    "ary3 = ary1 + ary2\n",
    "\n",
    "print(ary3)"
   ]
  },
  {
   "cell_type": "markdown",
   "id": "0417e868",
   "metadata": {},
   "source": [
    "##### Other operations\n",
    "Aggregation across the array:\n",
    "\n",
    "<img src=\"assets/np_matrix_aggregation.png\" width=\"600\">\n"
   ]
  },
  {
   "cell_type": "code",
   "execution_count": 22,
   "id": "ce1315bc",
   "metadata": {},
   "outputs": [
    {
     "name": "stdout",
     "output_type": "stream",
     "text": [
      "1\n",
      "6\n",
      "21\n"
     ]
    }
   ],
   "source": [
    "data = np.array([[1, 2], [5, 3], [4, 6]])\n",
    "print(data.min())\n",
    "print(data.max())\n",
    "print(data.sum())"
   ]
  },
  {
   "cell_type": "markdown",
   "id": "f75e3230",
   "metadata": {},
   "source": [
    "Aggregation across a dimension or axis (rows and columns):\n",
    "\n",
    "<img src=\"assets/np_matrix_aggregation_row.png\" width=\"600\">"
   ]
  },
  {
   "cell_type": "code",
   "execution_count": 23,
   "id": "13a538c2",
   "metadata": {},
   "outputs": [
    {
     "name": "stdout",
     "output_type": "stream",
     "text": [
      "[5 6]\n",
      "[2 5 6]\n"
     ]
    }
   ],
   "source": [
    "print(data.max(axis=0))\n",
    "print(data.max(axis=1))"
   ]
  },
  {
   "cell_type": "markdown",
   "id": "f9f37fa3",
   "metadata": {},
   "source": [
    "##### Transposing and reshaping a matrix\n",
    "\n",
    "Transposing a matrix:\n",
    "\n",
    "<img src=\"assets/np_transposing_reshaping.png\" width=\"600\">"
   ]
  },
  {
   "cell_type": "code",
   "execution_count": 24,
   "id": "969e43e9",
   "metadata": {},
   "outputs": [
    {
     "name": "stdout",
     "output_type": "stream",
     "text": [
      "[[1 2]\n",
      " [3 4]\n",
      " [5 6]]\n"
     ]
    }
   ],
   "source": [
    "data = np.array([[1, 2], [3, 4], [5, 6]])\n",
    "print(data)"
   ]
  },
  {
   "cell_type": "code",
   "execution_count": 25,
   "id": "019ba58e",
   "metadata": {},
   "outputs": [
    {
     "name": "stdout",
     "output_type": "stream",
     "text": [
      "[[1 3 5]\n",
      " [2 4 6]]\n"
     ]
    }
   ],
   "source": [
    "# Transpose matrix\n",
    "print(data.T) # or data.transpose"
   ]
  },
  {
   "cell_type": "markdown",
   "id": "f9fd3fd5",
   "metadata": {},
   "source": [
    "Reshaping a matrix:\n",
    "\n",
    "<img src=\"assets/np_reshape.png\" width=\"600\">"
   ]
  },
  {
   "cell_type": "code",
   "execution_count": 26,
   "id": "971ed89c",
   "metadata": {},
   "outputs": [
    {
     "data": {
      "text/plain": [
       "array([[1, 2, 3],\n",
       "       [4, 5, 6]])"
      ]
     },
     "execution_count": 26,
     "metadata": {},
     "output_type": "execute_result"
    }
   ],
   "source": [
    "data.reshape(2,3)\n"
   ]
  },
  {
   "cell_type": "code",
   "execution_count": 27,
   "id": "0201db94",
   "metadata": {},
   "outputs": [
    {
     "data": {
      "text/plain": [
       "array([[1, 2],\n",
       "       [3, 4],\n",
       "       [5, 6]])"
      ]
     },
     "execution_count": 27,
     "metadata": {},
     "output_type": "execute_result"
    }
   ],
   "source": [
    "data.reshape(3,2)"
   ]
  },
  {
   "cell_type": "markdown",
   "id": "6b7d8ca2",
   "metadata": {},
   "source": [
    "### Exercises: NumPy and Matplotlib"
   ]
  },
  {
   "cell_type": "markdown",
   "id": "213bc19b",
   "metadata": {},
   "source": [
    "Exercises to familiarize with NumPy and Matplotlib libraries\n",
    "\n"
   ]
  },
  {
   "cell_type": "markdown",
   "id": "ef5fd269",
   "metadata": {},
   "source": [
    "### NumPy\n",
    "\n",
    "Almost every calculation that we do in linear algebra involves working with arrays of numbers.  An array can be thought of as a collection of numbers arranged into rows and columns to form a rectangle, such as the example below, which has 2 rows and 4 columns.\n",
    "\n",
    "\n",
    "$$\n",
    "\\begin{equation}\n",
    "\\left[ \\begin{array}{rrrr} 5 & -1 & 1 & 0 \\\\ 4 & 3 & 12 & -6 \\end{array}\\right]\n",
    "\\end{equation}\n",
    "$$\n",
    "\n",
    "The easiest way to create the array above is to use the $\\texttt{array}$ function, and provide it a list of all the array entries in a specific format.  The row entries are separated by commas and enclosed in square brackets \\[\\], then all the rows listed together, separated by commas, and enclosed in another set of square brackets.   "
   ]
  },
  {
   "cell_type": "code",
   "execution_count": 28,
   "id": "f1454976",
   "metadata": {},
   "outputs": [
    {
     "name": "stdout",
     "output_type": "stream",
     "text": [
      "[[ 5 -1  1  0]\n",
      " [ 4  3 12 -6]]\n"
     ]
    }
   ],
   "source": [
    "# Importing NumPy library(in case you skipped to the Exercises section)\n",
    "import numpy as np\n",
    "\n",
    "## The object [[5, -1, 1, 0],[4, 3, 12, -6]], which gets passed into the array function is a Python list.\n",
    "## The object returned by the array function is a NumPy array object.\n",
    "\n",
    "A = np.array([[5, -1, 1, 0],[4, 3, 12, -6]])\n",
    "\n",
    "print(A)"
   ]
  },
  {
   "cell_type": "markdown",
   "id": "01dcd5ef",
   "metadata": {},
   "source": [
    "Another way to create the array we want is to first make an array that is one long row, and then use the $\\texttt{reshape}$ function.  This can be more convenient than typing the extra square brackets. "
   ]
  },
  {
   "cell_type": "code",
   "execution_count": 29,
   "id": "8b97cbfc",
   "metadata": {},
   "outputs": [
    {
     "name": "stdout",
     "output_type": "stream",
     "text": [
      "This is B before reshaping.\n",
      "[ 5 -1  1  0  4  3 12 -6]\n",
      "This is C, which is the entries of B formed into a new shape.\n",
      "[[ 5 -1  1  0]\n",
      " [ 4  3 12 -6]]\n"
     ]
    }
   ],
   "source": [
    "B = np.array([5, -1, 1, 0, 4, 3, 12, -6])\n",
    "print(\"This is B before reshaping.\")\n",
    "print(B)\n",
    "\n",
    "C = B.reshape((2,4))\n",
    "print(\"This is C, which is the entries of B formed into a new shape.\")\n",
    "print(C)"
   ]
  },
  {
   "cell_type": "markdown",
   "id": "a3dfbd70",
   "metadata": {},
   "source": [
    "#### Arrays: Indexing, Slicing, Memory Views, and Array Copies"
   ]
  },
  {
   "cell_type": "markdown",
   "id": "23e2fb63",
   "metadata": {},
   "source": [
    "NumPy array elements may be accessed via different indexing methods. Simple NumPy indexing and slicing is demonstrated in the following image, where we retrieve the various elements of a one-dimensional array:\n",
    "\n",
    "<img src=\"assets/np_indexing.png\" width=\"700\">"
   ]
  },
  {
   "cell_type": "markdown",
   "id": "f592e962",
   "metadata": {},
   "source": [
    "It is important to note that basic integer-based indexing and slicing create so-called *views* of NumPy arrays in memory. Working with views can be highly desirable since it avoids making unnecessary copies of arrays to save memory resources. To illustrate the concept of memory views, let us walk through a simple example where we access the first row in an array, assign it to a variable, and modify that variable:\n"
   ]
  },
  {
   "cell_type": "markdown",
   "id": "23a11647",
   "metadata": {},
   "source": [
    "We will often wish to make modifications to an array while keeping a copy of the original.  \n",
    "\n",
    "If we are working with NumPy arrays, it is always important to be aware that **slicing creates views** -- sometimes it is desirable since it can speed up our code by avoiding to create unnecessary copies in memory. However, in certain scenarios we want force a copy of an array; we can do this via the `copy` method as shown below:"
   ]
  },
  {
   "cell_type": "code",
   "execution_count": 65,
   "id": "50a4cf4f",
   "metadata": {},
   "outputs": [
    {
     "name": "stdout",
     "output_type": "stream",
     "text": [
      "[2 3]\n"
     ]
    }
   ],
   "source": [
    "data = np.array([1,2,3])\n",
    "data_copy = np.copy(data[1:])\n",
    "print(data_copy)"
   ]
  },
  {
   "cell_type": "markdown",
   "id": "07becec3",
   "metadata": {},
   "source": [
    "Sometimes it is useful to create an array that contains mostly zeros.  In this case, we can create an array that contains all zeros, and then modify the few entries that we want to be nonzero."
   ]
  },
  {
   "cell_type": "code",
   "execution_count": 66,
   "id": "7855cf6b",
   "metadata": {},
   "outputs": [
    {
     "name": "stdout",
     "output_type": "stream",
     "text": [
      "[[2. 0. 0. 0.]\n",
      " [0. 2. 0. 0.]\n",
      " [0. 0. 2. 0.]\n",
      " [0. 0. 0. 2.]]\n"
     ]
    }
   ],
   "source": [
    "## Create a 4x4 array that is all zeros.\n",
    "arr_zeroes = np.zeros((4,4))\n",
    "## Set entries along the main diagonal to 2.\n",
    "for i in range(4):\n",
    "    arr_zeroes[i,i] = 2\n",
    "    \n",
    "print(arr_zeroes)"
   ]
  },
  {
   "cell_type": "markdown",
   "id": "b23c5f00",
   "metadata": {},
   "source": [
    "#### Random module\n",
    "\n",
    "One way of testing code is to supply a lot of random input, and then check to see if the correct results are produced in each instance.  To produce the random inputs, we will make use of functions in the $\\texttt{random}$ module, which is contained within NumPy.  For example, we might use the $\\texttt{rand}$ function with no arguments to produce a random number between zero and one.     "
   ]
  },
  {
   "cell_type": "code",
   "execution_count": 67,
   "id": "3b75a694",
   "metadata": {},
   "outputs": [
    {
     "name": "stdout",
     "output_type": "stream",
     "text": [
      "0.6733534101221101\n"
     ]
    }
   ],
   "source": [
    "r = np.random.rand() \n",
    "print(r)"
   ]
  },
  {
   "cell_type": "markdown",
   "id": "313b00d3",
   "metadata": {},
   "source": [
    "Each execution of the $\\texttt{rand}$ function yields a new random number.  Note that $\\texttt{rand}$ is a function contained in the $\\texttt{random}$ module, which is in turn contained in NumPy.  We therefore need do use the dot notation twice to access it.\n",
    "\n",
    "We can also generate a random array of numbers by supplying $\\texttt{rand}$ two arguments to specify the number of rows and columns in the array.\n",
    "  "
   ]
  },
  {
   "cell_type": "code",
   "execution_count": 35,
   "id": "9851a2c1",
   "metadata": {},
   "outputs": [
    {
     "name": "stdout",
     "output_type": "stream",
     "text": [
      "[[0.13704162 0.21711635]\n",
      " [0.55545209 0.87811828]\n",
      " [0.6189173  0.61004841]]\n"
     ]
    }
   ],
   "source": [
    "X = np.random.rand(3,2)\n",
    "print(X)"
   ]
  },
  {
   "cell_type": "markdown",
   "id": "347491a4",
   "metadata": {},
   "source": [
    "If we want to generate random integers, we can use the $\\texttt{randint}$ function.  This function requires at least one argument to specify an upper bound on the numbers produced.  The code below produces a random number from among the integers 0 to 19.  "
   ]
  },
  {
   "cell_type": "code",
   "execution_count": 36,
   "id": "178a73d3",
   "metadata": {},
   "outputs": [
    {
     "name": "stdout",
     "output_type": "stream",
     "text": [
      "13\n"
     ]
    }
   ],
   "source": [
    "print(np.random.randint(20))"
   ]
  },
  {
   "cell_type": "markdown",
   "id": "683c2ad2",
   "metadata": {},
   "source": [
    "To generate a random array we have to specify the number of rows and columns using a *keyword argument* called $\\texttt{size}$.  The use of a *keyword argument* requires slightly different syntax as shown in the following example."
   ]
  },
  {
   "cell_type": "code",
   "execution_count": 37,
   "id": "f2f0a1a3",
   "metadata": {},
   "outputs": [
    {
     "name": "stdout",
     "output_type": "stream",
     "text": [
      "[[9 1 9 8 5 2]\n",
      " [3 9 7 2 2 8]\n",
      " [5 0 4 2 9 5]]\n"
     ]
    }
   ],
   "source": [
    "Y = np.random.randint(10,size=(3,6))\n",
    "print(Y)"
   ]
  },
  {
   "cell_type": "markdown",
   "id": "08117530",
   "metadata": {},
   "source": [
    "The use of *keyword arguments* is quite common in Python functions.  The advantage of this feature is that the arguments do not need to be provided in a prespecified order."
   ]
  },
  {
   "cell_type": "code",
   "execution_count": 38,
   "id": "0b61abe5",
   "metadata": {},
   "outputs": [
    {
     "name": "stdout",
     "output_type": "stream",
     "text": [
      "[[7 3 5]\n",
      " [3 9 2]]\n"
     ]
    }
   ],
   "source": [
    "print(np.random.randint(size=(2,3),high=10,low=1))"
   ]
  },
  {
   "cell_type": "markdown",
   "id": "957333e6",
   "metadata": {},
   "source": [
    "There is also a function in the $\\texttt{random}$ module called $\\texttt{choice}$, which allows us to generate a random value chosen from a specified collection.  This function takes a list of numbers as an argument and returns a value chosen at random from that list."
   ]
  },
  {
   "cell_type": "code",
   "execution_count": 39,
   "id": "e15b4bcb",
   "metadata": {},
   "outputs": [
    {
     "name": "stdout",
     "output_type": "stream",
     "text": [
      "7\n"
     ]
    }
   ],
   "source": [
    "x = np.random.choice([0,3,7,42])\n",
    "print(x)"
   ]
  },
  {
   "cell_type": "markdown",
   "id": "13ceda5f",
   "metadata": {},
   "source": [
    "We can also use the $\\texttt{choice}$ function to generate an array of numbers consisting of values from the specified collection. This is done by again using the $\\texttt{size}$ keyword argument."
   ]
  },
  {
   "cell_type": "code",
   "execution_count": 40,
   "id": "c099d548",
   "metadata": {},
   "outputs": [
    {
     "name": "stdout",
     "output_type": "stream",
     "text": [
      "[[ 7 42  7]\n",
      " [ 0  7 42]]\n"
     ]
    }
   ],
   "source": [
    "X = np.random.choice([0,3,7,42], size = (2,3))\n",
    "print(X)"
   ]
  },
  {
   "cell_type": "markdown",
   "id": "b14c938e",
   "metadata": {},
   "source": [
    "### Matplotlib\n",
    "\n",
    "Matplotlib provides a wide range of plotting functionality, and many options to make precise customizations to the figures produced. \n",
    "\n",
    "#### Example 1\n",
    "\n",
    "In the first figure, we will make a simple plot of four points with $(x,y)$ coordinates.  The list of coordinates will be stored in a NumPy array."
   ]
  },
  {
   "cell_type": "code",
   "execution_count": 41,
   "id": "3353d260",
   "metadata": {},
   "outputs": [],
   "source": [
    "x = np.array([1, 2.5, 3, 5.8])\n",
    "y = np.array([2, 1.2, 1.1, 0.8])"
   ]
  },
  {
   "cell_type": "markdown",
   "id": "3b17a143",
   "metadata": {},
   "source": [
    "The next code cell contains a minimal set of instructions needed to produce a plot.  The comments in the cell indicate the purpose of each line."
   ]
  },
  {
   "cell_type": "code",
   "execution_count": 42,
   "id": "86801ffb",
   "metadata": {},
   "outputs": [
    {
     "data": {
      "image/png": "[encoded data removed]",
      "text/plain": [
       "<Figure size 640x480 with 1 Axes>"
      ]
     },
     "metadata": {},
     "output_type": "display_data"
    }
   ],
   "source": [
    "## Imports the module and assigns a short alias for convenience\n",
    "import matplotlib.pyplot as plt\n",
    "\n",
    "## Directs the graphical output to this notebook\n",
    "%matplotlib inline\n",
    "\n",
    "## The subplots method returns a Figure object and an Axes object\n",
    "fig, ax = plt.subplots()\n",
    "\n",
    "## Plots the data on the Axes object\n",
    "ax.plot(x,y);"
   ]
  },
  {
   "cell_type": "markdown",
   "id": "1dffef07",
   "metadata": {},
   "source": [
    "The $\\texttt{subplots}$ method creates two Matplotlib objects, the *Figure*, and the *Axes*.  The *Figure* is the fundamental object in Matplotlib.  The *Axes* object is contained within the *Figure*, and is the object we will interact with the most.  The $\\texttt{plot}$ method of the *Axes* object is the function that actually plots our set of coordinates on the *Axes*.  Note that we do not need a $\\texttt{print}$ command to view the results.  Instead, the first line of code, `% matplotlib inline`, directs all graphical output to this notebook.\n",
    "\n",
    "The plot produced by this basic use of the $\\texttt{plot}$ method has connected the data point coordinates with lines.  This is the *default* functionality of this method.  It is common for Matplotlib methods (and indeed methods in many other Python libraries) to have a default functionality which is produced by supplying the minimum number of arguments, but also allow for additional arguments to be supplied which alter this default functionality.  In our example, we can supply the optional argument `b+` to the $\\texttt{plot}$ method to produce a plot with blue + symbols at the data coordinates instead of lines connecting them.   "
   ]
  },
  {
   "cell_type": "code",
   "execution_count": 43,
   "id": "a803f0a3",
   "metadata": {},
   "outputs": [
    {
     "data": {
      "image/png": "[encoded data removed]",
      "text/plain": [
       "<Figure size 640x480 with 1 Axes>"
      ]
     },
     "metadata": {},
     "output_type": "display_data"
    }
   ],
   "source": [
    "fig, ax = plt.subplots()\n",
    "ax.plot(x,y,'b+');"
   ]
  },
  {
   "cell_type": "markdown",
   "id": "f5fb0c76",
   "metadata": {},
   "source": [
    "Another alternative when we are interested in plotting data points is the $\\texttt{scatter}$ method, for which we can use the same syntax."
   ]
  },
  {
   "cell_type": "code",
   "execution_count": 44,
   "id": "9ee4afe5",
   "metadata": {},
   "outputs": [
    {
     "data": {
      "image/png": "[encoded data removed]",
      "text/plain": [
       "<Figure size 640x480 with 1 Axes>"
      ]
     },
     "metadata": {},
     "output_type": "display_data"
    }
   ],
   "source": [
    "fig, ax = plt.subplots()\n",
    "ax.scatter(x,y);"
   ]
  },
  {
   "cell_type": "markdown",
   "id": "99d39b2c",
   "metadata": {},
   "source": [
    "Next, we show how to configure some of the many options available in such a plot.  Remember that the plot is actually being constructed in an *Axes* object, so all the options that affect elements of the plot are methods of that object."
   ]
  },
  {
   "cell_type": "code",
   "execution_count": 45,
   "id": "4a0e8f45",
   "metadata": {},
   "outputs": [
    {
     "data": {
      "image/png": "[encoded data removed]",
      "text/plain": [
       "<Figure size 640x480 with 1 Axes>"
      ]
     },
     "metadata": {},
     "output_type": "display_data"
    }
   ],
   "source": [
    "fig, ax = plt.subplots()\n",
    "ax.plot(x,y,'rx');\n",
    "\n",
    "## These options set the upper and lower boundaries for x and y.\n",
    "ax.set_xlim(0,8);\n",
    "ax.set_ylim(0,4);\n",
    "\n",
    "## This option displays a grid to help visualize the coordinates\n",
    "ax.grid(True);\n",
    "\n",
    "## These options are used to set labels for the axes\n",
    "ax.set_xlabel('Time');\n",
    "ax.set_ylabel('Concentration');"
   ]
  },
  {
   "cell_type": "markdown",
   "id": "2d59e732",
   "metadata": {},
   "source": [
    "#### Example 2\n",
    "\n",
    "In the next example, the aim will be to plot the curve $y=0.5x^2$, for $x$ in the interval $[-2,4]$.  In order to make use of the same method, we will need to generate a set of points that lie on the curve for $x$ in the given interval.  The points that we specify will be connected by straight lines, so we will want to generate enough points to avoid the curve having a jagged appearance.  The NumPy method $\\texttt{linspace}$ provides an easy way to produce our points.  This method creates a NumPy array object with numbers spaced evenly over a specified interval. "
   ]
  },
  {
   "cell_type": "code",
   "execution_count": 46,
   "id": "65fd56d0",
   "metadata": {},
   "outputs": [
    {
     "name": "stdout",
     "output_type": "stream",
     "text": [
      "[-2.   -1.25 -0.5   0.25  1.    1.75  2.5   3.25  4.  ]\n",
      "[2.      0.78125 0.125   0.03125 0.5     1.53125 3.125   5.28125 8.     ]\n"
     ]
    }
   ],
   "source": [
    "## This call to linspace produces an array of 9 numbers evenly spaced on the interval [-2,4]\n",
    "x = np.linspace(-2,4,9)\n",
    "print(x)\n",
    "\n",
    "## We can create an array of the corresponding y values by using x in the algebraic expression\n",
    "y = 0.5*x**2\n",
    "print(y)"
   ]
  },
  {
   "cell_type": "markdown",
   "id": "c54e0e03",
   "metadata": {},
   "source": [
    "For the plot, we will use a larger number of points in order to generate a curve that looks smooth.  We also use some other options to adjust the appearance of this plot, including configuration of the *ticks* along the $x$ and $y$ axes.  The *ticks* is a list of numbers that define the gridlines and numerical labels along the axes.  The $\\texttt{plot}$ method will provide default values of *ticks*, which can be changed by providing an array of new values.    "
   ]
  },
  {
   "cell_type": "code",
   "execution_count": 47,
   "id": "807efa1a",
   "metadata": {},
   "outputs": [
    {
     "data": {
      "image/png": "[encoded data removed]",
      "text/plain": [
       "<Figure size 640x480 with 1 Axes>"
      ]
     },
     "metadata": {},
     "output_type": "display_data"
    }
   ],
   "source": [
    "x = np.linspace(-2,4,100)\n",
    "y = 0.5*x**2\n",
    "\n",
    "fig, ax = plt.subplots()\n",
    "ax.plot(x,y);\n",
    "\n",
    "ax.set_xlim(-2,4);\n",
    "ax.set_ylim(0,8);\n",
    "\n",
    "## The grid option will accept the keyword argument ls, which specifies the linestyle\n",
    "ax.grid(True,ls='dotted');\n",
    "\n",
    "## This option adjusts the aspect ratio so that the x and y axes have the same length scale\n",
    "ax.set_aspect('equal');\n",
    "\n",
    "## The numbers and gridlines along the x and y axes appear at \n",
    "ax.set_xticks(np.linspace(-2,4,4));\n",
    "ax.set_yticks(np.linspace(0,8,5));\n"
   ]
  },
  {
   "cell_type": "code",
   "execution_count": 48,
   "id": "308f460a",
   "metadata": {},
   "outputs": [
    {
     "data": {
      "image/png": "[encoded data removed]",
      "text/plain": [
       "<Figure size 640x480 with 1 Axes>"
      ]
     },
     "metadata": {},
     "output_type": "display_data"
    }
   ],
   "source": [
    "fig, ax = plt.subplots()\n",
    "ax.plot(x,y,'g',ls='dashed');\n",
    "\n",
    "ax.set_xlim(-3,5);\n",
    "ax.set_ylim(-1,9);\n",
    "\n",
    "## The grid option can be passed optional arguments that specify the linestyle (ls) used\n",
    "ax.grid(True,ls='dotted');\n",
    "\n",
    "## This option adjusts the aspect ratio so that the x and y axes have the same length scale\n",
    "ax.set_aspect('equal');\n",
    "\n",
    "## This option specifies the ticks with an array produced by linspace \n",
    "ax.set_xticks(np.linspace(-3,5,9));\n",
    "ax.set_yticks(np.linspace(-1,9,11));\n",
    "\n",
    "## This option draws lines x=0 and y=0 using keyword arguments color and linewidth\n",
    "ax.axvline(color='k',linewidth = 1);\n",
    "ax.axhline(color='k',linewidth = 1);"
   ]
  },
  {
   "cell_type": "markdown",
   "id": "8c4acaec",
   "metadata": {},
   "source": [
    "### Exercises\n",
    "\n",
    "- Using the $\\texttt{random}$  module, create a NumPy array with 2 rows and 3 columns that has entries that are random positive integers less than 10.  Print your array. Change the entry in the first row, second column to 8 and double the value in the second row, third column. Print the resulting array to check that your code has made the correct modifications."
   ]
  },
  {
   "cell_type": "code",
   "execution_count": 49,
   "id": "73bafc93",
   "metadata": {},
   "outputs": [],
   "source": [
    "## Code solution here."
   ]
  },
  {
   "cell_type": "markdown",
   "id": "1a012458",
   "metadata": {},
   "source": [
    "- Using the $\\texttt{random}$  module, create a NumPy array with 3 rows and 3 columns that has entries that are random positive integers less than 10.  Print your array. Now multiply each value in the matrix by 5 and then add 1 to all the enteries in the second row. After that, divide each diagonal entry by 2 and print the resulting array to check that your code has made the correct modifications."
   ]
  },
  {
   "cell_type": "code",
   "execution_count": 50,
   "id": "ac12ddfe",
   "metadata": {},
   "outputs": [],
   "source": [
    "## Code solution here."
   ]
  },
  {
   "cell_type": "markdown",
   "id": "67ee8f35",
   "metadata": {},
   "source": [
    "- Using the $\\texttt{random}$  module, create a NumPy array with 2 rows and 3 columns that has entries that are random integers greater than 5 and less than 13.    Write code that sets all even entries of the matrix to zero.  Print the array and check the results.  Run the code several times to check that it works for *different* random arrays. "
   ]
  },
  {
   "cell_type": "code",
   "execution_count": 51,
   "id": "de9442f6",
   "metadata": {},
   "outputs": [],
   "source": [
    "## Code solution here."
   ]
  },
  {
   "cell_type": "markdown",
   "id": "aebd61fc",
   "metadata": {},
   "source": [
    "- Create a NumPy array with 2 rows and 4 columns and assign it the name A.  Fill it with some values of your choice.  Create a new array $B$ that has the columns of $A$ as it's rows.  Print $A$ and $B$.  Below is an example of one such pair of arrays.\n",
    "\n",
    "$$\n",
    "\\begin{equation}\n",
    "A = \\left[ \\begin{array}{cccc} 1 & 0 & 5 & 1 \\\\ 3 & 2 & 0 & 8   \\end{array}\\right]\\hspace{1cm}\n",
    "B = \\left[ \\begin{array}{cc} 1 & 3 \\\\ 0 & 2 \\\\ 5 & 0  \\\\ 1 & 8  \\end{array}\\right]\\hspace{1cm}\n",
    "\\end{equation}\n",
    "$$"
   ]
  },
  {
   "cell_type": "code",
   "execution_count": 57,
   "id": "89a983de",
   "metadata": {},
   "outputs": [
    {
     "name": "stdout",
     "output_type": "stream",
     "text": [
      "Array A:\n",
      "[[1 2 3 4]\n",
      " [5 6 7 8]]\n",
      "\n",
      "Array B (transpose of A):\n",
      "[[1 5]\n",
      " [2 6]\n",
      " [3 7]\n",
      " [4 8]]\n"
     ]
    }
   ],
   "source": [
    "## Code solution here.\n",
    "\n"
   ]
  },
  {
   "cell_type": "markdown",
   "id": "7a54fecf",
   "metadata": {},
   "source": [
    "- Using matplotlib to plot the following points using the blue *cross* symbol: (2,1), (4,4), (8,16), (10,25).  Add a grid that consists of dotted lines as in Example 2. Set the limits of $x$-axis to 0 and 10.  Set the limits of the $y$-axis to 0 and 25.  The numbers and gridlines should appear at intervals of 2 units along the $x$-axis and at intervals of 5 units along the $y$-axis.  Label the $x$-axis as \"*Time*\" and the $y$-axis as \"*Distance*\"."
   ]
  },
  {
   "cell_type": "code",
   "execution_count": 56,
   "id": "11bee638",
   "metadata": {},
   "outputs": [
    {
     "data": {
      "image/png": "[encoded data removed]",
      "text/plain": [
       "<Figure size 800x600 with 1 Axes>"
      ]
     },
     "metadata": {},
     "output_type": "display_data"
    }
   ],
   "source": [
    "## Code solution here.\n",
    "\n"
   ]
  },
  {
   "cell_type": "markdown",
   "id": "7c3af583",
   "metadata": {},
   "source": [
    "- Use matplotlib to plot the curve $y= 4+x-0.5x^2$ where $x$ lies in the interval $[-1,5]$.  Follow Example 2 and use $\\texttt{linspace}$ to generate an array of coordinates of points on the curve. The curve should be dashed and shown in green color. The numbers and gridlines should appear at intervals of 1 unit along the $x$-axis and at intervals of 3 units along the $y$-axis. Draw the lines $x=0$, and $y=0$ with black colour and 1 unit width. Add a grid that consists of dashed lines."
   ]
  },
  {
   "cell_type": "code",
   "execution_count": 55,
   "id": "09583814",
   "metadata": {},
   "outputs": [
    {
     "data": {
      "image/png": "[encoded data removed]",
      "text/plain": [
       "<Figure size 800x600 with 1 Axes>"
      ]
     },
     "metadata": {},
     "output_type": "display_data"
    }
   ],
   "source": [
    "## Code solution here.\n"
   ]
  },
  {
   "cell_type": "markdown",
   "id": "a679bb6f",
   "metadata": {},
   "source": [
    "### References\n",
    "\n",
    "- [NumPy Official Documentation](https://numpy.org/doc/stable/user/absolute_beginners.html)\n",
    "- Harris, C. R. et. al. [*Array Programming with NumPy*](https://www.nature.com/articles/s41586-020-2649-2)., Nature 585, 357-362, 2020.\n",
    "- [A Crash Course in Python for Scientists](https://nbviewer.jupyter.org/gist/rpmuller/5920182)\n",
    "- [Jupyter Guide to Linear Algebra](https://bvanderlei.github.io/jupyter-guide-to-linear-algebra/intro.html)\n"
   ]
  },
  {
   "cell_type": "markdown",
   "id": "3370b69c",
   "metadata": {},
   "source": []
  },
  {
   "cell_type": "markdown",
   "id": "3b830dee",
   "metadata": {},
   "source": []
  }
 ],
 "metadata": {
  "kernelspec": {
   "display_name": "DLA2024",
   "language": "python",
   "name": "python3"
  },
  "language_info": {
   "codemirror_mode": {
    "name": "ipython",
    "version": 3
   },
   "file_extension": ".py",
   "mimetype": "text/x-python",
   "name": "python",
   "nbconvert_exporter": "python",
   "pygments_lexer": "ipython3",
   "version": "3.12.4"
  },
  "nbdime-conflicts": {
   "local_diff": [
    {
     "key": "kernelspec",
     "op": "add",
     "value": {
      "display_name": "DLA2024",
      "language": "python",
      "name": "python3"
     }
    }
   ],
   "remote_diff": [
    {
     "key": "kernelspec",
     "op": "add",
     "value": {
      "display_name": "Python 3",
      "language": "python",
      "name": "python3"
     }
    }
   ]
  }
 },
 "nbformat": 4,
 "nbformat_minor": 5
}
